{
 "cells": [
  {
   "cell_type": "markdown",
   "metadata": {},
   "source": [
    "## Assignment03\n",
    "\n",
    "### StudentID : 20155212\n",
    "\n",
    "### Name : Choi Bowon\n",
    "\n",
    "### GitHub : https://github.com/ChoiBowon/Assignment"
   ]
  },
  {
   "cell_type": "markdown",
   "metadata": {},
   "source": [
    "## Import packages for project"
   ]
  },
  {
   "cell_type": "code",
   "execution_count": 346,
   "metadata": {},
   "outputs": [],
   "source": [
    "import numpy as np\n",
    "import matplotlib.pyplot as plt\n",
    "import random "
   ]
  },
  {
   "cell_type": "markdown",
   "metadata": {},
   "source": [
    "## Initialize global variables , Input k"
   ]
  },
  {
   "cell_type": "code",
   "execution_count": 347,
   "metadata": {},
   "outputs": [
    {
     "name": "stdout",
     "output_type": "stream",
     "text": [
      "Input k number : 3\n"
     ]
    }
   ],
   "source": [
    "k = int(input(\"Input k number : \"))\n",
    "Xarr_cluster = []\n",
    "Yarr_cluster = []\n",
    "cluster = []\n",
    "point = []\n",
    "label = []"
   ]
  },
  {
   "cell_type": "markdown",
   "metadata": {},
   "source": [
    "## Create class for centroid and Cluster"
   ]
  },
  {
   "cell_type": "code",
   "execution_count": 348,
   "metadata": {},
   "outputs": [],
   "source": [
    "class k_Point:\n",
    "    def __init__(self, x, y):\n",
    "        self.x = x\n",
    "        self.y = y\n",
    "        \n",
    "    def setPoint(self,x,y):\n",
    "        self.x = x\n",
    "        self.y = y"
   ]
  },
  {
   "cell_type": "code",
   "execution_count": 349,
   "metadata": {},
   "outputs": [],
   "source": [
    "class Cluster:\n",
    "    def __init__(self,x,y,label):\n",
    "        self.x = x\n",
    "        self.y = y\n",
    "        self.label = label\n",
    "        \n",
    "    def setLabel(self,label):\n",
    "        self.label = label"
   ]
  },
  {
   "cell_type": "markdown",
   "metadata": {},
   "source": [
    "## Initialize first Cluster and centroid using random library"
   ]
  },
  {
   "cell_type": "code",
   "execution_count": 350,
   "metadata": {},
   "outputs": [],
   "source": [
    "def generatePointCluster():\n",
    "    for i in range(k):\n",
    "        point.append(k_Point(random.random(), random.random()))\n",
    "    for j in range(100):\n",
    "        cluster.append(Cluster(float(format(random.random(),\".2f\")), float(format(random.random(),\".2f\")),0))\n",
    "        print(cluster[j].x, cluster[j].y, cluster[j].label)"
   ]
  },
  {
   "cell_type": "markdown",
   "metadata": {},
   "source": [
    "## Compute Distance between centroid and all clusters"
   ]
  },
  {
   "cell_type": "code",
   "execution_count": 351,
   "metadata": {},
   "outputs": [],
   "source": [
    "def computeDistance(points,clusters):\n",
    "    d = np.zeros((100, k))\n",
    "    for i in range(100):\n",
    "        for j in range(k):\n",
    "            d[i][j] = ((clusters[i].x - points[j].x)**2 + (clusters[i].y - points[j].y)**2)**0.5\n",
    "\n",
    "    return d"
   ]
  },
  {
   "cell_type": "markdown",
   "metadata": {},
   "source": [
    "## Initialize label "
   ]
  },
  {
   "cell_type": "code",
   "execution_count": 352,
   "metadata": {},
   "outputs": [],
   "source": [
    "def initialiseLabel():\n",
    "    for i in range(100):\n",
    "        cluster[i].setLabel(random.randrange(0,k))\n",
    "        print(\"label:\", cluster[i].label)\n",
    "        \n",
    "    return label"
   ]
  },
  {
   "cell_type": "markdown",
   "metadata": {},
   "source": [
    "## Compute new Centroid using minimum value"
   ]
  },
  {
   "cell_type": "code",
   "execution_count": 353,
   "metadata": {},
   "outputs": [],
   "source": [
    "def computeCentroid():\n",
    "    x_temp = np.zeros(k)\n",
    "    y_temp = np.zeros(k)\n",
    "    nums = np.zeros(k)\n",
    "    for i in range(100):\n",
    "        x_temp[cluster[i].label] += cluster[i].x\n",
    "        y_temp[cluster[i].label] += cluster[i].y\n",
    "        nums[cluster[i].label] += 1\n",
    "        \n",
    "    for i in range(k):\n",
    "        point[i].setPoint((x_temp[i]/nums[i]), (y_temp[i]/nums[i]))\n",
    "        print(\"centroid:\", point[i].x, point[i].y)\n",
    "   "
   ]
  },
  {
   "cell_type": "markdown",
   "metadata": {},
   "source": [
    "## Assign new Label using computeDistance method"
   ]
  },
  {
   "cell_type": "code",
   "execution_count": 354,
   "metadata": {},
   "outputs": [],
   "source": [
    "def assignLabel():\n",
    "    d = computeDistance(point,cluster)\n",
    "    Min = 1\n",
    "    index = 0\n",
    "    \n",
    "    for i in range(100):\n",
    "        Min = 1\n",
    "        for j in range(k):\n",
    "            if Min > d[i][j]:\n",
    "                Min = d[i][j]\n",
    "                index = j\n",
    "        cluster[i].setLabel(index)"
   ]
  },
  {
   "cell_type": "markdown",
   "metadata": {},
   "source": [
    "## Compute Energy when interation is occured"
   ]
  },
  {
   "cell_type": "code",
   "execution_count": 355,
   "metadata": {},
   "outputs": [],
   "source": [
    "def computeEnergy():\n",
    "    energy = 0\n",
    "    for i in range(100):\n",
    "        energy += ((cluster[i].x - point[cluster[i].label].x)**2 + ((cluster[i].y - point[cluster[i].label].y))**2)**0.5\n",
    "    energy /= 100    \n",
    "    print(\"energy:\",energy)    \n",
    "        "
   ]
  },
  {
   "cell_type": "markdown",
   "metadata": {},
   "source": [
    "## K-means Algorithm "
   ]
  },
  {
   "cell_type": "code",
   "execution_count": 356,
   "metadata": {},
   "outputs": [
    {
     "name": "stdout",
     "output_type": "stream",
     "text": [
      "0.0 0.9 0\n",
      "0.48 0.91 0\n",
      "0.93 0.09 0\n",
      "0.84 0.63 0\n",
      "0.41 0.23 0\n",
      "0.03 0.62 0\n",
      "0.6 0.51 0\n",
      "1.0 0.02 0\n",
      "0.39 0.94 0\n",
      "0.2 0.25 0\n",
      "0.86 0.27 0\n",
      "0.68 0.63 0\n",
      "0.61 0.43 0\n",
      "0.17 0.6 0\n",
      "0.34 0.76 0\n",
      "0.16 0.99 0\n",
      "0.05 0.69 0\n",
      "0.05 0.01 0\n",
      "0.33 0.0 0\n",
      "0.87 0.82 0\n",
      "0.53 0.83 0\n",
      "0.54 0.57 0\n",
      "0.88 0.63 0\n",
      "0.84 0.17 0\n",
      "0.48 0.2 0\n",
      "0.81 0.38 0\n",
      "0.36 0.72 0\n",
      "0.6 0.46 0\n",
      "0.68 0.75 0\n",
      "0.12 0.75 0\n",
      "0.5 0.9 0\n",
      "0.93 0.24 0\n",
      "0.06 0.6 0\n",
      "0.39 0.22 0\n",
      "0.98 0.93 0\n",
      "0.79 0.99 0\n",
      "0.96 0.77 0\n",
      "0.5 0.69 0\n",
      "0.82 0.47 0\n",
      "0.35 0.46 0\n",
      "0.18 0.76 0\n",
      "0.42 0.55 0\n",
      "0.67 0.62 0\n",
      "0.71 0.31 0\n",
      "0.66 0.14 0\n",
      "0.74 0.53 0\n",
      "1.0 0.86 0\n",
      "0.21 0.97 0\n",
      "0.81 0.34 0\n",
      "0.84 0.17 0\n",
      "0.57 0.82 0\n",
      "0.91 0.25 0\n",
      "0.88 0.74 0\n",
      "0.13 0.33 0\n",
      "0.77 0.3 0\n",
      "0.66 0.31 0\n",
      "0.05 0.2 0\n",
      "0.14 0.76 0\n",
      "0.08 0.16 0\n",
      "0.85 0.45 0\n",
      "0.55 0.78 0\n",
      "0.22 0.02 0\n",
      "0.14 0.22 0\n",
      "0.08 0.55 0\n",
      "0.23 0.91 0\n",
      "0.14 0.16 0\n",
      "0.46 0.32 0\n",
      "0.21 0.26 0\n",
      "0.15 0.86 0\n",
      "0.69 0.77 0\n",
      "0.56 0.93 0\n",
      "0.14 0.36 0\n",
      "0.71 0.87 0\n",
      "0.31 0.32 0\n",
      "0.48 0.24 0\n",
      "0.9 0.3 0\n",
      "0.15 0.4 0\n",
      "0.17 0.49 0\n",
      "0.04 0.48 0\n",
      "0.71 0.19 0\n",
      "0.79 0.4 0\n",
      "0.96 0.27 0\n",
      "0.52 0.08 0\n",
      "0.88 0.77 0\n",
      "0.01 0.9 0\n",
      "0.32 0.62 0\n",
      "0.37 0.86 0\n",
      "0.57 0.47 0\n",
      "0.83 0.31 0\n",
      "0.02 0.46 0\n",
      "0.3 0.85 0\n",
      "0.76 0.56 0\n",
      "0.34 0.4 0\n",
      "0.22 0.19 0\n",
      "0.22 0.91 0\n",
      "0.22 0.56 0\n",
      "0.49 0.14 0\n",
      "0.01 0.26 0\n",
      "0.27 0.55 0\n",
      "0.49 0.91 0\n",
      "label: 0\n",
      "label: 0\n",
      "label: 0\n",
      "label: 0\n",
      "label: 0\n",
      "label: 1\n",
      "label: 1\n",
      "label: 0\n",
      "label: 0\n",
      "label: 2\n",
      "label: 0\n",
      "label: 2\n",
      "label: 2\n",
      "label: 2\n",
      "label: 2\n",
      "label: 2\n",
      "label: 0\n",
      "label: 0\n",
      "label: 0\n",
      "label: 2\n",
      "label: 1\n",
      "label: 1\n",
      "label: 2\n",
      "label: 0\n",
      "label: 0\n",
      "label: 0\n",
      "label: 2\n",
      "label: 2\n",
      "label: 1\n",
      "label: 2\n",
      "label: 0\n",
      "label: 0\n",
      "label: 0\n",
      "label: 2\n",
      "label: 0\n",
      "label: 1\n",
      "label: 1\n",
      "label: 2\n",
      "label: 0\n",
      "label: 1\n",
      "label: 0\n",
      "label: 0\n",
      "label: 0\n",
      "label: 0\n",
      "label: 0\n",
      "label: 0\n",
      "label: 1\n",
      "label: 0\n",
      "label: 2\n",
      "label: 1\n",
      "label: 2\n",
      "label: 2\n",
      "label: 0\n",
      "label: 1\n",
      "label: 0\n",
      "label: 2\n",
      "label: 2\n",
      "label: 2\n",
      "label: 2\n",
      "label: 2\n",
      "label: 1\n",
      "label: 1\n",
      "label: 0\n",
      "label: 1\n",
      "label: 2\n",
      "label: 2\n",
      "label: 0\n",
      "label: 2\n",
      "label: 1\n",
      "label: 0\n",
      "label: 2\n",
      "label: 0\n",
      "label: 1\n",
      "label: 0\n",
      "label: 0\n",
      "label: 0\n",
      "label: 2\n",
      "label: 0\n",
      "label: 1\n",
      "label: 2\n",
      "label: 1\n",
      "label: 0\n",
      "label: 0\n",
      "label: 1\n",
      "label: 2\n",
      "label: 2\n",
      "label: 2\n",
      "label: 1\n",
      "label: 0\n",
      "label: 1\n",
      "label: 1\n",
      "label: 1\n",
      "label: 2\n",
      "label: 1\n",
      "label: 2\n",
      "label: 1\n",
      "label: 0\n",
      "label: 0\n",
      "label: 2\n",
      "label: 2\n",
      "centroid: 0.5390243902439026 0.428780487804878\n",
      "centroid: 0.47840000000000005 0.5871999999999999\n",
      "centroid: 0.41088235294117653 0.5658823529411764\n",
      "energy: 0.3749554868517992\n",
      "centroid: 0.6509756097560975 0.2860975609756098\n",
      "centroid: 0.663913043478261 0.8113043478260868\n",
      "centroid: 0.16861111111111107 0.586388888888889\n",
      "energy: 0.24039792389727618\n"
     ]
    }
   ],
   "source": [
    "FormalEnergy = 1\n",
    "CurrentEnergy = 0\n",
    "\n",
    "generatePointCluster()\n",
    "initialiseLabel()\n",
    "\n",
    "while(FormalEnergy != CurrentEnergy):\n",
    "    computeCentroid()\n",
    "    FormalEnergy = CurrentEnergy;\n",
    "    CurrentEnergy = computeEnergy()\n",
    "    assignLabel()\n",
    "\n"
   ]
  }
 ],
 "metadata": {
  "kernelspec": {
   "display_name": "Python 3",
   "language": "python",
   "name": "python3"
  },
  "language_info": {
   "codemirror_mode": {
    "name": "ipython",
    "version": 3
   },
   "file_extension": ".py",
   "mimetype": "text/x-python",
   "name": "python",
   "nbconvert_exporter": "python",
   "pygments_lexer": "ipython3",
   "version": "3.6.5"
  }
 },
 "nbformat": 4,
 "nbformat_minor": 2
}
