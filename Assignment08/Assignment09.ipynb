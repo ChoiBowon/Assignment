{
 "cells": [
  {
   "cell_type": "markdown",
   "metadata": {},
   "source": [
    "# Assignment09\n",
    "\n",
    "## Name : Choibowon\n",
    "## Student ID : 20155212\n",
    "## GitHub : https://github.com/ChoiBowon/Assignment"
   ]
  },
  {
   "cell_type": "code",
   "execution_count": null,
   "metadata": {},
   "outputs": [],
   "source": [
    "import matplotlib.pyplot as plt\n",
    "import numpy as np\n",
    "from scipy import signal"
   ]
  },
  {
   "cell_type": "code",
   "execution_count": null,
   "metadata": {},
   "outputs": [],
   "source": [
    "file_data_train = \"mnist_train.csv\"\n",
    "file_data_test  = \"mnist_test.csv\"\n",
    "\n",
    "h_data_train    = open(file_data_train, \"r\")\n",
    "h_data_test     = open(file_data_test, \"r\")\n",
    "\n",
    "data_train      = h_data_train.readlines() #train data 저장함\n",
    "data_test       = h_data_test.readlines() #test data 저장함\n",
    "\n",
    "h_data_train.close()\n",
    "h_data_test.close()"
   ]
  },
  {
   "cell_type": "code",
   "execution_count": null,
   "metadata": {},
   "outputs": [],
   "source": [
    "size_row    = 28    # height of the image\n",
    "size_col    = 28    # width of the image\n",
    "\n",
    "num_train   = len(data_train)   # number of training images\n",
    "num_test    = len(data_test)    # number of testing images"
   ]
  },
  {
   "cell_type": "code",
   "execution_count": null,
   "metadata": {},
   "outputs": [],
   "source": [
    "#\n",
    "# normalize the values of the input data to be [0, 1]\n",
    "#\n",
    "def normalize(data):\n",
    "\n",
    "    data_normalized = (data - min(data)) / (max(data) - min(data))\n",
    "\n",
    "    return(data_normalized)"
   ]
  },
  {
   "cell_type": "code",
   "execution_count": null,
   "metadata": {},
   "outputs": [],
   "source": [
    "#\n",
    "# example of distance function between two vectors x and y\n",
    "#\n",
    "def distance(x, y):\n",
    "\n",
    "    d = (x - y) ** 2\n",
    "    s = np.sum(d)\n",
    "    # r = np.sqrt(s)\n",
    "\n",
    "    return(s)"
   ]
  },
  {
   "cell_type": "code",
   "execution_count": null,
   "metadata": {},
   "outputs": [],
   "source": [
    "#\n",
    "# make a matrix each column of which represents an images in a vector form \n",
    "#\n",
    "list_image_train    = np.empty((size_row * size_col, num_train), dtype=float) # train data 이미지 개수만큼 배열 선언 (784,num_train)\n",
    "list_label_train    = np.empty(num_train, dtype=int) # train data label 따로 저장\n",
    "\n",
    "list_image_test     = np.empty((size_row * size_col, num_test), dtype=float) #  test data 이미지 개수만큼 배열 선언 (784,num_test)\n",
    "list_label_test     = np.empty(num_test, dtype=int) # test data label 따로 저장\n",
    "\n",
    "count = 0"
   ]
  },
  {
   "cell_type": "code",
   "execution_count": null,
   "metadata": {},
   "outputs": [],
   "source": [
    "for line in data_train:  #data train = train data 저장함\n",
    "\n",
    "    line_data   = line.split(',')\n",
    "    label       = line_data[0]\n",
    "    im_vector   = np.asfarray(line_data[1:])\n",
    "    im_vector   = normalize(im_vector)\n",
    "\n",
    "    list_label_train[count]     = label\n",
    "    list_image_train[:, count]  = im_vector    \n",
    "\n",
    "    count += 1\n",
    "\n",
    "count = 0"
   ]
  },
  {
   "cell_type": "code",
   "execution_count": null,
   "metadata": {},
   "outputs": [],
   "source": [
    "for line in data_test:\n",
    "\n",
    "    line_data   = line.split(',')\n",
    "    label       = line_data[0]\n",
    "    im_vector   = np.asfarray(line_data[1:])\n",
    "    im_vector   = normalize(im_vector)\n",
    "\n",
    "    list_label_test[count]      = label\n",
    "    list_image_test[:, count]   = im_vector    \n",
    "\n",
    "    count += 1"
   ]
  },
  {
   "cell_type": "code",
   "execution_count": null,
   "metadata": {},
   "outputs": [],
   "source": [
    "# \n",
    "# plot first 150 images out of 10,000 with their labels\n",
    "# \n",
    "f1 = plt.figure(1)\n",
    "\n",
    "for i in range(150):\n",
    "\n",
    "    label       = list_label_train[i]\n",
    "    im_vector   = list_image_train[:, i]\n",
    "    im_matrix   = im_vector.reshape((size_row, size_col))\n",
    "\n",
    "    plt.subplot(10, 15, i+1)\n",
    "    plt.title(label)\n",
    "    plt.imshow(im_matrix, cmap='Greys', interpolation='None')\n",
    "\n",
    "    frame   = plt.gca()\n",
    "    frame.axes.get_xaxis().set_visible(False)\n",
    "    frame.axes.get_yaxis().set_visible(False)\n",
    "#plt.show()"
   ]
  },
  {
   "cell_type": "code",
   "execution_count": null,
   "metadata": {},
   "outputs": [],
   "source": [
    "#\n",
    "# plot the average image of all the images for each digit\n",
    "#\n",
    "f2 = plt.figure(2)\n",
    "\n",
    "im_average  = np.zeros((size_row * size_col, 10), dtype=float)\n",
    "im_count    = np.zeros(10, dtype=int)\n",
    "\n",
    "for i in range(num_train):\n",
    "\n",
    "    im_average[:, list_label_train[i]] += list_image_train[:, i]\n",
    "    im_count[list_label_train[i]] += 1\n",
    "\n",
    "for i in range(10):\n",
    "\n",
    "    im_average[:, i] /= im_count[i]\n",
    "    \n",
    "    plt.subplot(2, 5, i+1)\n",
    "    plt.title(i)\n",
    "    plt.imshow(im_average[:,i].reshape((size_row, size_col)), cmap='Greys', interpolation='None') \n",
    "\n",
    "    frame   = plt.gca()\n",
    "    frame.axes.get_xaxis().set_visible(False)\n",
    "    frame.axes.get_yaxis().set_visible(False)\n",
    "\n",
    "plt.show()"
   ]
  },
  {
   "cell_type": "markdown",
   "metadata": {},
   "source": [
    "## Define Matrix A, image featrue matrix"
   ]
  },
  {
   "cell_type": "code",
   "execution_count": null,
   "metadata": {},
   "outputs": [],
   "source": [
    "def build_matrix(x):  #784,6000\n",
    "    col = np.shape(x)[0]\n",
    "    row = np.shape(x)[1]\n",
    "    matrix = np.empty((row,col), dtype=float)\n",
    "    for i in range(row):\n",
    "        for j in range(col):\n",
    "            matrix[i,j] = feature_func(j+1, x[:,i])\n",
    "    return matrix"
   ]
  },
  {
   "cell_type": "markdown",
   "metadata": {},
   "source": [
    "## Define Featrue function"
   ]
  },
  {
   "cell_type": "code",
   "execution_count": null,
   "metadata": {},
   "outputs": [],
   "source": [
    "def feature_func(i, x):\n",
    "    return x[i-1]\n",
    "    "
   ]
  },
  {
   "cell_type": "markdown",
   "metadata": {},
   "source": [
    "## Define b, y values"
   ]
  },
  {
   "cell_type": "code",
   "execution_count": null,
   "metadata": {},
   "outputs": [],
   "source": [
    "def build_y(y):\n",
    "    num = np.shape(y)[0]\n",
    "    b = y.reshape((num, 1))\n",
    "    condlist = [b==0, b!=0]\n",
    "    choicelist = [1, -1]\n",
    "    return np.select(condlist, choicelist)"
   ]
  },
  {
   "cell_type": "markdown",
   "metadata": {},
   "source": [
    "## Define fucntion to approximate model parameter"
   ]
  },
  {
   "cell_type": "code",
   "execution_count": null,
   "metadata": {},
   "outputs": [],
   "source": [
    "def approx(matrix,b):\n",
    "    if np.shape(b)[0] != 1:\n",
    "        num = np.shape(b)[0]\n",
    "        b = b.reshape((num, 1))\n",
    "    feature = np.shape(matrix)[1]\n",
    "    theta = np.zeros((feature,1), dtype=float)\n",
    "    Q,R = np.linalg.qr(list_image_train.T)\n",
    "    Rsol = np.matmul(Q.T, b)\n",
    "    for i in range(feature):\n",
    "        n = feature - i\n",
    "        if R[n-1, n-1] == 0:\n",
    "            theta[n-1,0] = 0\n",
    "        else:\n",
    "            rthetasum = 0\n",
    "            for j in range(feature-n):\n",
    "                l = feature-j\n",
    "                rthetasum += R[n-1, l-1]*theta[l-1,0]\n",
    "            theta[n-1, 0] = (Rsol[n-1,0] - rthetasum)/R[n-1,n-1]\n",
    "    return theta"
   ]
  },
  {
   "cell_type": "markdown",
   "metadata": {},
   "source": [
    "## Define F1score function"
   ]
  },
  {
   "cell_type": "code",
   "execution_count": null,
   "metadata": {},
   "outputs": [],
   "source": [
    "def F1score(list_TF):\n",
    "    precision = list_TF[0] / (list_TF[0] + list_TF[3])\n",
    "    recall = list_TF[0] / (list_TF[0] +list_TF[1])\n",
    "    return 2*((precision * recall) / (precision + recall))"
   ]
  },
  {
   "cell_type": "markdown",
   "metadata": {},
   "source": [
    "## Plot model parameter "
   ]
  },
  {
   "cell_type": "code",
   "execution_count": null,
   "metadata": {},
   "outputs": [],
   "source": [
    "def plot_theta(theta):\n",
    "    data_normalized = (theta - min(theta)) / (max(theta) - min(theta))\n",
    "    im_matrix = data_normalized.reshape((28,28))\n",
    "    plt.imshow(im_matrix, cmap='Greys', interpolation='None')\n",
    "    plt.title('plot model parameter')\n",
    "    plt.show()"
   ]
  },
  {
   "cell_type": "markdown",
   "metadata": {},
   "source": [
    "## Define classifier"
   ]
  },
  {
   "cell_type": "code",
   "execution_count": null,
   "metadata": {},
   "outputs": [],
   "source": [
    "def classifier(predict, b_test, Matrix_test):\n",
    "    FN = []\n",
    "    FP = []\n",
    "    TN = []\n",
    "    TP = []\n",
    "    list_TF = [None for i in len(predict)]\n",
    "    for i in range(0, len(predict)):\n",
    "        if(float(predict[i]) > 0) and int(b_test[i]) == 1:\n",
    "            TP.append(Matrix_test[i])\n",
    "            list_TF[i] = 'TP'\n",
    "        elif (float(predict[i]) > 0) and int(b_test[i]) != 1:\n",
    "            FP.append(Matrix_test[i])\n",
    "            list_TF[i] = 'FP'\n",
    "        elif(float(predict[i]) < 0) and int(b_test[i]) == 1:\n",
    "            FN.append(Matrix_test[i])\n",
    "            list_TF[i] = 'FN'\n",
    "        elif (float(predict[i]) < 0) and int(b_test[i]) != 1:\n",
    "            TN.append(Matrix_test[i])\n",
    "            list_TF[i] = 'TN'\n",
    "\n",
    "           \n",
    "    return FN,FP,TN,TP,list_TF"
   ]
  },
  {
   "cell_type": "markdown",
   "metadata": {},
   "source": [
    "## Train and predict "
   ]
  },
  {
   "cell_type": "code",
   "execution_count": null,
   "metadata": {},
   "outputs": [],
   "source": [
    "Matrix_train = build_matrix(list_image_train)\n",
    "b_train = build_y(list_label_train)\n",
    "model_parameter = approx(Matrix_train, b_train)\n",
    "plot_theta(model_parameter)\n",
    "Matrix_test = build_matrix(list_image_test)\n",
    "b_test = build_y(list_label_test)\n",
    "predict = np.matmul(Matrix_test,model_parameter)\n",
    "FN,FP,TN,TP = classifier(predict, b_test, Matrix_test)\n"
   ]
  },
  {
   "cell_type": "markdown",
   "metadata": {},
   "source": [
    "## Define function for getting average "
   ]
  },
  {
   "cell_type": "code",
   "execution_count": null,
   "metadata": {},
   "outputs": [],
   "source": [
    "def average(x):\n",
    "    x = np.mat(x)\n",
    "    avg = np.mean(x, axis=0)\n",
    "    \n",
    "    return avg"
   ]
  },
  {
   "cell_type": "markdown",
   "metadata": {},
   "source": [
    "## Plot average TP, FP, TN, FN"
   ]
  },
  {
   "cell_type": "code",
   "execution_count": null,
   "metadata": {},
   "outputs": [],
   "source": [
    "plt.figure(figsize=(8,8))\n",
    "\n",
    "im_average = np.zeros((size_row*size_col, 10), dtype=float)\n",
    "im_count = np.zeros(10, dtype=int)\n",
    "\n",
    "P1 = plt.subplot(2,2,1)\n",
    "P1.set_title('FN')\n",
    "im_average = average(FN)\n",
    "plt.imshow(im_average.reshape((size_row, size_col)), cmap='Greys', interpolation='None')\n",
    "plt.axis('off')\n",
    "\n",
    "P2 = plt.subplot(2,2,2)\n",
    "P2.set_title('TN')\n",
    "im_average = average(TN)\n",
    "plt.imshow(im_average.reshape((size_row, size_col)), cmap='Greys', interpolation='None')\n",
    "plt.axis('off')\n",
    "\n",
    "P3 = plt.subplot(2,2,3)\n",
    "P3.set_title('FP')\n",
    "im_average = average(FP)\n",
    "plt.imshow(im_average.reshape((size_row, size_col)), cmap='Greys', interpolation='None')\n",
    "plt.axis('off')\n",
    "\n",
    "\n",
    "P4 = plt.subplot(2,2,4)\n",
    "P1.set_title('TP')\n",
    "im_average = average(TP)\n",
    "plt.imshow(im_average.reshape((size_row, size_col)), cmap='Greys', interpolation='None')\n",
    "plt.axis('off')\n",
    "\n",
    "plt.show()"
   ]
  },
  {
   "cell_type": "code",
   "execution_count": null,
   "metadata": {},
   "outputs": [],
   "source": []
  }
 ],
 "metadata": {
  "kernelspec": {
   "display_name": "Python 3",
   "language": "python",
   "name": "python3"
  },
  "language_info": {
   "codemirror_mode": {
    "name": "ipython",
    "version": 3
   },
   "file_extension": ".py",
   "mimetype": "text/x-python",
   "name": "python",
   "nbconvert_exporter": "python",
   "pygments_lexer": "ipython3",
   "version": "3.6.5"
  }
 },
 "nbformat": 4,
 "nbformat_minor": 2
}
